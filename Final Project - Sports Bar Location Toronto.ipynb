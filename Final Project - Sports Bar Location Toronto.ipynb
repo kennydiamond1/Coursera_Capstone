{
    "cells": [
        {
            "cell_type": "markdown",
            "metadata": {
                "collapsed": true
            },
            "source": "# The Best Location For A Sports Bar In Toronto"
        },
        {
            "cell_type": "markdown",
            "metadata": {},
            "source": "## Introduction/Business Problem"
        },
        {
            "cell_type": "markdown",
            "metadata": {},
            "source": "According to research done here, https://www.brightlocal.com/research/local-business-travel-times/, people are willing to drive less distance to go to a specific pub/bar than any other business category besides the gym or yoga / alternative therapies. The location of a sports bar is one of the biggest determinants if it will get enough traffic to pay all of its expenses and eventually turn a profit. Sports bars have become much more popular over the last handful of years and finding a location that still has plenty of demand can be tricky.\n\nOur objective is to recommend the best locations in Toronto to open a new sports bar."
        },
        {
            "cell_type": "markdown",
            "metadata": {},
            "source": "## Data"
        },
        {
            "cell_type": "markdown",
            "metadata": {},
            "source": "Coordinate data of Toronto postal codes is in http://cocl.us/Geospatial_data. The data base for Toronto postal code population and total private dwellings are from https://www12.statcan.gc.ca/census-recensement/2016/dp-pd/hlt-fst/pd-pl/Table.cfm?Lang=Eng&T=1201&S=22&O=A.\n\nAccording to the research from Bright Local, on average, people are willing to drive about 14 minutes to a pub of their choice. In a city, we will assume you can drive about 8 km (or 5 miles) in 14 minutes. Using the Foursquare API we will determine how many sports bars are within a 5 mile radius of each postal code. We will then use these numbers to determine the number of sports bars per 5 mile radius there are for each postal code.\n\nWe will generate a table with rows corresponding to neighborhood, and columns with\n- postal code\n- longitude\n- lattitude\n- population\n- sports bars in 5 mile radius\n- sports bars per capita\n\nThe neighborhood with the least amount of sports bars per capita should be the ones with the most potential demand for a new sports bar."
        },
        {
            "cell_type": "code",
            "execution_count": null,
            "metadata": {},
            "outputs": [],
            "source": ""
        },
        {
            "cell_type": "code",
            "execution_count": null,
            "metadata": {},
            "outputs": [],
            "source": ""
        }
    ],
    "metadata": {
        "kernelspec": {
            "display_name": "Python 3.7",
            "language": "python",
            "name": "python3"
        },
        "language_info": {
            "codemirror_mode": {
                "name": "ipython",
                "version": 3
            },
            "file_extension": ".py",
            "mimetype": "text/x-python",
            "name": "python",
            "nbconvert_exporter": "python",
            "pygments_lexer": "ipython3",
            "version": "3.7.10"
        }
    },
    "nbformat": 4,
    "nbformat_minor": 1
}